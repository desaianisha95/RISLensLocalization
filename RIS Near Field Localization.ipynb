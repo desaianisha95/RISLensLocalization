{
 "cells": [
  {
   "cell_type": "code",
   "execution_count": 74,
   "metadata": {},
   "outputs": [],
   "source": [
    "import numpy as np\n",
    "import math\n",
    "import numpy.matlib\n",
    "import sys"
   ]
  },
  {
   "cell_type": "code",
   "execution_count": 75,
   "metadata": {},
   "outputs": [],
   "source": [
    "class Signal:\n",
    "    fc = 28                                # carrier in GHz\n",
    "    c = 0.3                                # speed of light [m/ns]\n",
    "    T = 200                                # number of observations\n",
    "    P = 1                                  # transmit power mW\n",
    "    N0dBmHz = -174                         # dBm/Hz\n",
    "    N0 = pow(10, 0.1 * N0dBmHz) * 1e9 # noise PSD  [mW/GHz] (290 Kelvin * Boltzmann constant in W/Hz)\n",
    "    BW = 1e-3                              # Bandwidth GHz\n",
    "    NFdB = 8                               # receiver noise figure [dB]\n",
    "    NF = pow(10, 0.1 * NFdB)\n",
    "    EsN0 = 2 * P / (NF * N0 * BW)\n",
    "    sigma2 = NF * N0 * BW/2\n",
    "    Lambda = c / fc                        # wavelength\n",
    "    plot = 0                               # 1 = show plots\n",
    "    sims = 5                               # number of Monte Carlo simulations\n"
   ]
  },
  {
   "cell_type": "code",
   "execution_count": 76,
   "metadata": {},
   "outputs": [
    {
     "name": "stdout",
     "output_type": "stream",
     "text": [
      "[[ 0.        ]\n",
      " [ 0.        ]\n",
      " [-0.01071429]]\n"
     ]
    }
   ],
   "source": [
    "class RIS:\n",
    "\n",
    "        M = 50 * 50                                                         # RIS elements \n",
    "        Delta = Signal.Lambda/2                                             # RIS element spacing\n",
    "        Location = np.zeros((3, 1))                                         # location of RIS in XY plane\n",
    "        Antenna = np.array([0, 0, -1 * Signal.Lambda]).reshape((3, 1))      # RIS antenna location\n",
    "        Orientation = 0\n",
    "        bits = 1000\n",
    "        beam_type = \"random\"    # 'position', 'direction', 'random'\n",
    "        print(Antenna)\n",
    "\n",
    "        "
   ]
  },
  {
   "cell_type": "code",
   "execution_count": 77,
   "metadata": {},
   "outputs": [],
   "source": [
    "def computeRISChannel(source, IRS, Signal, regime):\n",
    "            M = IRS.M\n",
    "            fc = Signal.fc\n",
    "            c = Signal.c\n",
    "            spacing = IRS.Delta\n",
    "            RIS = IRS.Location\n",
    "            Lambda = c / fc             # Wavelenght(m)\n",
    "            A = pow(2, spacing)         # basic element area\n",
    "            a = math.sqrt(A)            # basic element size\n",
    "\n",
    "            phi = math.atan2(source[1], source[0])\n",
    "            theta = math.acos(source[2] / np.linalg.norm(source))\n",
    "            k = 2 * np.pi / Lambda * np.array([math.cos(phi)*math.sin(theta), math.sin(phi)*math.sin(theta), math.cos(theta)]).reshape((3, 1))\n",
    "            gain = np.zeros((M, 1))\n",
    "            phase_rot = np.zeros((M, 1))\n",
    "\n",
    "            iix = np.linspace(0, math.sqrt(M) - 1)\n",
    "            iiy = np.linspace(0, math.sqrt(M) - 1)\n",
    "            iix = a * (iix - math.sqrt(M) / 2)\n",
    "            iiy = a * (iiy - math.sqrt(M) / 2)\n",
    "\n",
    "            locations = np.zeros((3, M))\n",
    "\n",
    "            ###### verify below this\n",
    "            coord = np.matlib.repmat(np.linspace(1, math.sqrt(M), dtype=int), int(math.sqrt(M)), 1)\n",
    "            x_temp = iix[coord - 1]\n",
    "            y_temp = iiy[np.transpose(coord) - 1]\n",
    "            xyz_mat = np.array([np.transpose(x_temp), np.transpose(y_temp)])\n",
    "           \n",
    "            ###### verify above this\n",
    "\n",
    "\n",
    "            locations[0:2,:] = xyz_mat\n",
    "            d=np.linalg.norm(locations-source)\n",
    "            d0=np.linalg.norm(source)\n",
    "\n",
    "            correction = 1- pow(2, math.sin(theta)) * pow(2, math.sin(phi))\n",
    "\n",
    "            if regime == \"CM1\":\n",
    "            #         phase_rot=mod(-k'*locations,2*pi);\n",
    "            #         phase_rot=phase_rot';\n",
    "            #         gain=((sqrt(cos(theta)*correction)*a)/(sqrt(4*pi)*norm(source-RIS)))*exp(-1i*phase_rot);\n",
    "                pass\n",
    "            elif regime == \"CM2\":\n",
    "            #         phase_rot=mod(2*pi*(d-d0)/lambda,2*pi);        \n",
    "            #         phase_rot=phase_rot';\n",
    "            #         gain=((sqrt(cos(theta)*correction)*a)/(sqrt(4*pi)*norm(source-RIS)))*exp(-1i*phase_rot);\n",
    "                pass\n",
    "            elif regime == \"CM3\":\n",
    "                  for m in range(M):          \n",
    "                    el_m =locations[:,m]\n",
    "                    x_m=el_m(0)\n",
    "                    y_m=el_m(1)       \n",
    "                    setX=[a/2+x_m-source(0),a/2-x_m+source(0)]             \n",
    "                    setY=[a/2+y_m-source(1),a/2-y_m+source(1)]                                             \n",
    "                    d=abs(source(2))                            #according to the paper, the Z-coordinate is d\n",
    "                    TMP=np.zeros(length(setX),length(setY))\n",
    "                    dm=np.linalg.norm(source-el_m)                       #distance between BS and m-th element\n",
    "                    for ix in range(len(setX)):\n",
    "                        for iy in range(len(setY)):                      \n",
    "                            a2=(setX(ix)*setY(iy))/pow(2,d)                        \n",
    "                            b21=3*(pow(2,setY(iy))/pow(2,d))+3                        \n",
    "                            b22=math.sqrt(((pow(2,setX(ix))+pow(2,setY(iy)))/pow(2,d))+1)                       \n",
    "                            TMP[ix,iy]=(a2/(b21*b22))+((2/3) * math.atan2(a2,b22))                       \n",
    "                               \n",
    "                    powerval=((1/(4*np.pi))*np.sum(np.sum(TMP)))                #power of the m-th element                         \n",
    "                    phase_rot[m]=2*np.pi*(dm-d0)/Lambda\n",
    "                    gain[m]=math.sqrt(powerval) * np.exp(-1j*phase_rot(m))      #complex channel gain                               \n",
    "            pass\n",
    "\n",
    "\n",
    "            return (gain,phase_rot,locations)                          #RIS rotation around the Y axis \n"
   ]
  },
  {
   "cell_type": "code",
   "execution_count": 80,
   "metadata": {},
   "outputs": [
    {
     "ename": "ValueError",
     "evalue": "could not broadcast input array from shape (2,50,50) into shape (2,2500)",
     "output_type": "error",
     "traceback": [
      "\u001b[0;31m---------------------------------------------------------------------------\u001b[0m",
      "\u001b[0;31mValueError\u001b[0m                                Traceback (most recent call last)",
      "\u001b[0;32m<ipython-input-80-be2603ce8a39>\u001b[0m in \u001b[0;36m<module>\u001b[0;34m\u001b[0m\n\u001b[0;32m----> 1\u001b[0;31m \u001b[0mgain\u001b[0m\u001b[0;34m,\u001b[0m\u001b[0mphase_rot\u001b[0m\u001b[0;34m,\u001b[0m\u001b[0mlocations\u001b[0m \u001b[0;34m=\u001b[0m \u001b[0mcomputeRISChannel\u001b[0m\u001b[0;34m(\u001b[0m\u001b[0mRIS\u001b[0m\u001b[0;34m.\u001b[0m\u001b[0mAntenna\u001b[0m\u001b[0;34m,\u001b[0m\u001b[0mRIS\u001b[0m\u001b[0;34m,\u001b[0m\u001b[0mSignal\u001b[0m\u001b[0;34m,\u001b[0m\u001b[0;34m'CM3'\u001b[0m\u001b[0;34m)\u001b[0m \u001b[0;31m# response from RIS to antenna\u001b[0m\u001b[0;34m\u001b[0m\u001b[0;34m\u001b[0m\u001b[0m\n\u001b[0m\u001b[1;32m      2\u001b[0m \u001b[0mRIS\u001b[0m\u001b[0;34m.\u001b[0m\u001b[0mb\u001b[0m \u001b[0;34m=\u001b[0m \u001b[0mgain\u001b[0m\u001b[0;34m\u001b[0m\u001b[0;34m\u001b[0m\u001b[0m\n\u001b[1;32m      3\u001b[0m \u001b[0mprint\u001b[0m\u001b[0;34m(\u001b[0m\u001b[0mRIS\u001b[0m\u001b[0;34m.\u001b[0m\u001b[0mb\u001b[0m\u001b[0;34m)\u001b[0m\u001b[0;34m\u001b[0m\u001b[0;34m\u001b[0m\u001b[0m\n\u001b[1;32m      4\u001b[0m \u001b[0mprint\u001b[0m\u001b[0;34m(\u001b[0m\u001b[0mxyz_mat\u001b[0m\u001b[0;34m)\u001b[0m\u001b[0;34m\u001b[0m\u001b[0;34m\u001b[0m\u001b[0m\n",
      "\u001b[0;32m<ipython-input-77-dd932fe3a6e8>\u001b[0m in \u001b[0;36mcomputeRISChannel\u001b[0;34m(source, IRS, Signal, regime)\u001b[0m\n\u001b[1;32m     31\u001b[0m \u001b[0;34m\u001b[0m\u001b[0m\n\u001b[1;32m     32\u001b[0m \u001b[0;34m\u001b[0m\u001b[0m\n\u001b[0;32m---> 33\u001b[0;31m             \u001b[0mlocations\u001b[0m\u001b[0;34m[\u001b[0m\u001b[0;36m0\u001b[0m\u001b[0;34m:\u001b[0m\u001b[0;36m2\u001b[0m\u001b[0;34m,\u001b[0m\u001b[0;34m:\u001b[0m\u001b[0;34m]\u001b[0m \u001b[0;34m=\u001b[0m \u001b[0mxyz_mat\u001b[0m\u001b[0;34m\u001b[0m\u001b[0;34m\u001b[0m\u001b[0m\n\u001b[0m\u001b[1;32m     34\u001b[0m             \u001b[0md\u001b[0m\u001b[0;34m=\u001b[0m\u001b[0mnp\u001b[0m\u001b[0;34m.\u001b[0m\u001b[0mlinalg\u001b[0m\u001b[0;34m.\u001b[0m\u001b[0mnorm\u001b[0m\u001b[0;34m(\u001b[0m\u001b[0mlocations\u001b[0m\u001b[0;34m-\u001b[0m\u001b[0msource\u001b[0m\u001b[0;34m)\u001b[0m\u001b[0;34m\u001b[0m\u001b[0;34m\u001b[0m\u001b[0m\n\u001b[1;32m     35\u001b[0m             \u001b[0md0\u001b[0m\u001b[0;34m=\u001b[0m\u001b[0mnp\u001b[0m\u001b[0;34m.\u001b[0m\u001b[0mlinalg\u001b[0m\u001b[0;34m.\u001b[0m\u001b[0mnorm\u001b[0m\u001b[0;34m(\u001b[0m\u001b[0msource\u001b[0m\u001b[0;34m)\u001b[0m\u001b[0;34m\u001b[0m\u001b[0;34m\u001b[0m\u001b[0m\n",
      "\u001b[0;31mValueError\u001b[0m: could not broadcast input array from shape (2,50,50) into shape (2,2500)"
     ]
    }
   ],
   "source": [
    "gain,phase_rot,locations = computeRISChannel(RIS.Antenna,RIS,Signal,'CM3') # response from RIS to antenna\n",
    "RIS.b = gain\n",
    "print(RIS.b)\n"
   ]
  },
  {
   "cell_type": "code",
   "execution_count": 66,
   "metadata": {},
   "outputs": [
    {
     "name": "stdout",
     "output_type": "stream",
     "text": [
      "[0.57735027 0.57735027 0.57735027]\n",
      "[ 0.15  1.    1.5   2.    3.    4.    6.    8.   10.   12.   15.  ]\n",
      "11\n",
      "(11,)\n"
     ]
    }
   ],
   "source": [
    "class UE:\n",
    "    covariance = np.eye(3, dtype=int)               # UE a priori covariance\n",
    "    distances = np.array([0.15, 1, 1.5, 2, 3, 4, 6, 8, 10, 12, 15], dtype=float)\n",
    "    e = np.array([1, 1, 1])\n",
    "    e_unit = e / np.linalg.norm(e)\n",
    "    rhoRange = []\n",
    "    phiRange = []\n",
    "    thetaRange = []\n",
    "    print(e_unit)\n",
    "    print(distances)\n",
    "    print(len(distances))\n",
    "    print(distances.shape)\n",
    "    \n"
   ]
  },
  {
   "cell_type": "code",
   "execution_count": 67,
   "metadata": {},
   "outputs": [],
   "source": [
    "def quantizePhases(phases_in, nbits):\n",
    "    if nbits > 5:\n",
    "        phases_out = phases_in\n",
    "    else:\n",
    "        delta = np.pi / nbits\n",
    "        phases_out = np.floor(phases_in / delta + 0.5) * delta\n",
    "    \n",
    "    return phases_out"
   ]
  },
  {
   "cell_type": "code",
   "execution_count": 68,
   "metadata": {},
   "outputs": [
    {
     "ename": "AttributeError",
     "evalue": "type object 'RIS' has no attribute 'b'",
     "output_type": "error",
     "traceback": [
      "\u001b[0;31m---------------------------------------------------------------------------\u001b[0m",
      "\u001b[0;31mAttributeError\u001b[0m                            Traceback (most recent call last)",
      "\u001b[0;32m<ipython-input-68-b084772fd1d1>\u001b[0m in \u001b[0;36m<module>\u001b[0;34m\u001b[0m\n\u001b[0;32m----> 1\u001b[0;31m \u001b[0mab\u001b[0m\u001b[0;34m=\u001b[0m\u001b[0mquantizePhases\u001b[0m\u001b[0;34m(\u001b[0m\u001b[0mnp\u001b[0m\u001b[0;34m.\u001b[0m\u001b[0mangle\u001b[0m\u001b[0;34m(\u001b[0m\u001b[0mRIS\u001b[0m\u001b[0;34m.\u001b[0m\u001b[0mb\u001b[0m\u001b[0;34m)\u001b[0m\u001b[0;34m,\u001b[0m\u001b[0mRIS\u001b[0m\u001b[0;34m.\u001b[0m\u001b[0mbits\u001b[0m\u001b[0;34m)\u001b[0m\u001b[0;34m\u001b[0m\u001b[0;34m\u001b[0m\u001b[0m\n\u001b[0m\u001b[1;32m      2\u001b[0m \u001b[0mprint\u001b[0m\u001b[0;34m(\u001b[0m\u001b[0mab\u001b[0m\u001b[0;34m)\u001b[0m\u001b[0;34m\u001b[0m\u001b[0;34m\u001b[0m\u001b[0m\n\u001b[1;32m      3\u001b[0m \u001b[0;34m\u001b[0m\u001b[0m\n",
      "\u001b[0;31mAttributeError\u001b[0m: type object 'RIS' has no attribute 'b'"
     ]
    }
   ],
   "source": [
    "ab=quantizePhases(np.angle(RIS.b),RIS.bits)\n",
    "print(ab)\n",
    "\n"
   ]
  },
  {
   "cell_type": "code",
   "execution_count": 38,
   "metadata": {},
   "outputs": [
    {
     "ename": "NameError",
     "evalue": "name 'ab' is not defined",
     "output_type": "error",
     "traceback": [
      "\u001b[0;31m---------------------------------------------------------------------------\u001b[0m",
      "\u001b[0;31mNameError\u001b[0m                                 Traceback (most recent call last)",
      "\u001b[0;32m<ipython-input-38-53004c6ca484>\u001b[0m in \u001b[0;36m<module>\u001b[0;34m\u001b[0m\n\u001b[0;32m----> 1\u001b[0;31m \u001b[0mOmega_b\u001b[0m\u001b[0;34m=\u001b[0m\u001b[0mnp\u001b[0m\u001b[0;34m.\u001b[0m\u001b[0mdiag\u001b[0m\u001b[0;34m(\u001b[0m\u001b[0mnp\u001b[0m\u001b[0;34m.\u001b[0m\u001b[0mexp\u001b[0m\u001b[0;34m(\u001b[0m\u001b[0;34m-\u001b[0m\u001b[0;36m1j\u001b[0m\u001b[0;34m*\u001b[0m\u001b[0mab\u001b[0m\u001b[0;34m)\u001b[0m\u001b[0;34m)\u001b[0m\u001b[0;34m\u001b[0m\u001b[0;34m\u001b[0m\u001b[0m\n\u001b[0m\u001b[1;32m      2\u001b[0m \u001b[0mprint\u001b[0m\u001b[0;34m(\u001b[0m\u001b[0mOmega_b\u001b[0m\u001b[0;34m)\u001b[0m\u001b[0;34m\u001b[0m\u001b[0;34m\u001b[0m\u001b[0m\n\u001b[1;32m      3\u001b[0m \u001b[0mbnew\u001b[0m\u001b[0;34m=\u001b[0m\u001b[0mRIS\u001b[0m\u001b[0;34m.\u001b[0m\u001b[0mb\u001b[0m\u001b[0;34m.\u001b[0m\u001b[0mtranspose\u001b[0m\u001b[0;34m(\u001b[0m\u001b[0;34m)\u001b[0m\u001b[0;34m*\u001b[0m\u001b[0mOmega_b\u001b[0m\u001b[0;34m\u001b[0m\u001b[0;34m\u001b[0m\u001b[0m\n\u001b[1;32m      4\u001b[0m \u001b[0merrorStat\u001b[0m\u001b[0;34m=\u001b[0m\u001b[0mnp\u001b[0m\u001b[0;34m.\u001b[0m\u001b[0mzeros\u001b[0m\u001b[0;34m(\u001b[0m\u001b[0;34m[\u001b[0m\u001b[0mlen\u001b[0m\u001b[0;34m(\u001b[0m\u001b[0mUE\u001b[0m\u001b[0;34m.\u001b[0m\u001b[0mdistances\u001b[0m\u001b[0;34m)\u001b[0m\u001b[0;34m,\u001b[0m\u001b[0mSignal\u001b[0m\u001b[0;34m.\u001b[0m\u001b[0msims\u001b[0m\u001b[0;34m]\u001b[0m\u001b[0;34m)\u001b[0m\u001b[0;34m\u001b[0m\u001b[0;34m\u001b[0m\u001b[0m\n\u001b[1;32m      5\u001b[0m \u001b[0mRMSE\u001b[0m\u001b[0;34m=\u001b[0m\u001b[0mnp\u001b[0m\u001b[0;34m.\u001b[0m\u001b[0mzeros\u001b[0m\u001b[0;34m(\u001b[0m\u001b[0;34m[\u001b[0m\u001b[0;36m1\u001b[0m\u001b[0;34m,\u001b[0m\u001b[0mlen\u001b[0m\u001b[0;34m(\u001b[0m\u001b[0mUE\u001b[0m\u001b[0;34m.\u001b[0m\u001b[0mdistances\u001b[0m\u001b[0;34m)\u001b[0m\u001b[0;34m]\u001b[0m\u001b[0;34m)\u001b[0m\u001b[0;34m\u001b[0m\u001b[0;34m\u001b[0m\u001b[0m\n",
      "\u001b[0;31mNameError\u001b[0m: name 'ab' is not defined"
     ]
    }
   ],
   "source": [
    "Omega_b=np.diag(np.exp(-1j*ab))  \n",
    "print(Omega_b)\n",
    "bnew=RIS.b.transpose()*Omega_b\n",
    "errorStat=np.zeros([len(UE.distances),Signal.sims])\n",
    "RMSE=np.zeros([1,len(UE.distances)])\n",
    "print(errorStat)\n",
    "print(RMSE)\n"
   ]
  },
  {
   "cell_type": "code",
   "execution_count": null,
   "metadata": {},
   "outputs": [],
   "source": [
    "#def getBeams(UE,RIS,signal,beamType):\n",
    "   # switcher = {\n",
    "       # random:   \n",
    "       #     phases=rand(signal.T,RIS.M)*2*pi\n",
    "        #    phases=quantizePhases(phases,RIS.bits)          \n",
    "          #  Beams=exp(1j*phases),\n",
    "      #  direction:\n",
    "        \n",
    "    #}\n",
    "    \n",
    "def showContours(Signal,UE,RIS):\n",
    "    x_grid = np.linespace(-2,2,50)\n",
    "    z_grid = np.linespace(0.001,4,50)\n",
    "    Omega_b = np.diag(np.conj(np.divide(b,(abs(b)))))\n",
    "    bnew = b.transpose() * Omega_b\n",
    "    PEB = np.zeros(length(x_grid),length(z_grid))\n",
    "    SNRr = np.zeros(length(x_grid),length(z_grid))\n",
    "    SNRd = np.zeros(length(x_grid),length(z_grid))\n",
    "    SNRp = np.zeros(length(x_grid),length(z_grid))\n",
    "    \n",
    "    UE.Location=0.1*[1,1,1]       #assume beams are pointing here        \n",
    "    UE.rhoRange=np.norm(UE1.Location)\n",
    "    UE.phiRange=np.atan2(UE1.Location(2),UE1.Location(1))    #between 0 and 2pi\n",
    "    UE.thetaRange=acos(UE1.Location(3)/norm(UE1.Location)) #between 0 and pi (for us pi/2, since Z>0)  \n",
    "    UE.mean=UE.Location \n",
    "    UE.covariance=UE.covariance      \n",
    "    BeamsR=getBeams(UE1,RIS,signal,'random')\n",
    "    BeamsD=getBeams(UE1,RIS,signal,'direction')       \n",
    "    BeamsP=getBeams(UE1,RIS,signal,'position')       \n",
    "    UE.Location = np.zeros(3,1)\n",
    "    \n",
    "    "
   ]
  },
  {
   "cell_type": "code",
   "execution_count": null,
   "metadata": {},
   "outputs": [],
   "source": []
  },
  {
   "cell_type": "code",
   "execution_count": null,
   "metadata": {},
   "outputs": [],
   "source": [
    "#gain, phase_rot, locations = RIS.b\n",
    "#gain = np.angle(gain)\n",
    "#phase_rot = np.angle(phase_rot)\n",
    "#locations = np.angle(locations)\n",
    "#RIS.b = (gain, phase_rot, locations)\n",
    "#ab=quantizePhases(RIS.b,RIS.bits)\n",
    "\n"
   ]
  },
  {
   "cell_type": "code",
   "execution_count": null,
   "metadata": {},
   "outputs": [],
   "source": []
  }
 ],
 "metadata": {
  "kernelspec": {
   "display_name": "Python 3",
   "language": "python",
   "name": "python3"
  },
  "language_info": {
   "codemirror_mode": {
    "name": "ipython",
    "version": 3
   },
   "file_extension": ".py",
   "mimetype": "text/x-python",
   "name": "python",
   "nbconvert_exporter": "python",
   "pygments_lexer": "ipython3",
   "version": "3.7.4"
  }
 },
 "nbformat": 4,
 "nbformat_minor": 2
}
