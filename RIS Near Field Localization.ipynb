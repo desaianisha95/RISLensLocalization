{
 "cells": [
  {
   "cell_type": "code",
   "execution_count": 222,
   "metadata": {},
   "outputs": [],
   "source": [
    "import numpy as np\n",
    "import math\n",
    "import numpy.matlib"
   ]
  },
  {
   "cell_type": "code",
   "execution_count": 223,
   "metadata": {},
   "outputs": [],
   "source": [
    "class Signal:\n",
    "    fc = 28                                # carrier in GHz\n",
    "    c = 0.3                                # speed of light [m/ns]\n",
    "    T = 200                                # number of observations\n",
    "    P = 1                                  # transmit power mW\n",
    "    N0dBmHz = -174                         # dBm/Hz\n",
    "    N0 = pow(10, 0.1 * N0dBmHz) * 1e9 # noise PSD  [mW/GHz] (290 Kelvin * Boltzmann constant in W/Hz)\n",
    "    BW = 1e-3                              # Bandwidth GHz\n",
    "    NFdB = 8                               # receiver noise figure [dB]\n",
    "    NF = pow(10, 0.1 * NFdB)\n",
    "    EsN0 = 2 * P / (NF * N0 * BW)\n",
    "    sigma2 = NF * N0 * BW/2\n",
    "    Lambda = c / fc                        # wavelength\n",
    "    plot = 0                               # 1 = show plots\n",
    "    sims = 5                               # number of Monte Carlo simulations\n"
   ]
  },
  {
   "cell_type": "code",
   "execution_count": 224,
   "metadata": {},
   "outputs": [],
   "source": [
    "class RIS:\n",
    "\n",
    "        M = 50 * 50                                                         # RIS elements \n",
    "        Delta = Signal.Lambda/2                                             # RIS element spacing\n",
    "        Location = np.zeros((3, 1))                                         # location of RIS in XY plane\n",
    "        Antenna = np.array([0, 0, -1 * Signal.Lambda]).reshape((3, 1))      # RIS antenna location\n",
    "        Orientation = 0\n",
    "        bits = 1000\n",
    "        beam_type = \"random\"                                                # 'position', 'direction', 'random'\n",
    "\n",
    "        "
   ]
  },
  {
   "cell_type": "code",
   "execution_count": 225,
   "metadata": {},
   "outputs": [],
   "source": [
    "def computeRISChannel(source, IRS, Signal, regime):\n",
    "            M = IRS.M\n",
    "            fc = Signal.fc\n",
    "            c = Signal.c\n",
    "            spacing = IRS.Delta\n",
    "            RIS = IRS.Location\n",
    "            Lambda = c / fc             # Wavelenght(m)\n",
    "            A = pow(2, spacing)         # basic element area\n",
    "            a = math.sqrt(A)            # basic element size\n",
    "\n",
    "            phi = math.atan2(source[1], source[0])\n",
    "            theta = math.acos(source[2] / np.linalg.norm(source))\n",
    "            k = 2 * np.pi / Lambda * np.array([math.cos(phi)*math.sin(theta), math.sin(phi)*math.sin(theta), math.cos(theta)]).reshape((3, 1))\n",
    "            gain = np.zeros((M, 1))\n",
    "            phase_rot = np.zeros((M, 1))\n",
    "\n",
    "            iix = np.linspace(0, math.sqrt(M) - 1)\n",
    "            iiy = np.linspace(0, math.sqrt(M) - 1)\n",
    "            iix = a * (iix - math.sqrt(M) / 2)\n",
    "            iiy = a * (iiy - math.sqrt(M) / 2)\n",
    "\n",
    "            locations = np.zeros((3, M))\n",
    "\n",
    "            ###### verify below this\n",
    "            coord = np.matlib.repmat(np.linspace(1, math.sqrt(M), dtype=int), int(math.sqrt(M)), 1)\n",
    "            x_temp = iix[coord - 1]\n",
    "            y_temp = iiy[np.transpose(coord) - 1]\n",
    "            xyz_mat = np.array([np.transpose(x_temp), np.transpose(y_temp)])\n",
    "            ###### verify above this\n",
    "\n",
    "\n",
    "            # locations(1:2,:)=XYZmat;\n",
    "            # d=vecnorm(locations-source);\n",
    "            # d0=norm(source);\n",
    "\n",
    "            correction = 1- pow(2, math.sin(theta)) * pow(2, math.sin(phi))\n",
    "\n",
    "            if regime == \"CM1\":\n",
    "            #         phase_rot=mod(-k'*locations,2*pi);\n",
    "            #         phase_rot=phase_rot';\n",
    "            #         gain=((sqrt(cos(theta)*correction)*a)/(sqrt(4*pi)*norm(source-RIS)))*exp(-1i*phase_rot);\n",
    "                pass\n",
    "            elif regime == \"CM2\":\n",
    "            #         phase_rot=mod(2*pi*(d-d0)/lambda,2*pi);        \n",
    "            #         phase_rot=phase_rot';\n",
    "            #         gain=((sqrt(cos(theta)*correction)*a)/(sqrt(4*pi)*norm(source-RIS)))*exp(-1i*phase_rot);\n",
    "                pass\n",
    "            elif regime == \"CM3\":\n",
    "            #     for m=1:M          \n",
    "            #         el_m =locations(:,m);\n",
    "            #         x_m=el_m(1);\n",
    "            #         y_m=el_m(2);       \n",
    "            #         setX=[a/2+x_m-source(1) a/2-x_m+source(1)];             \n",
    "            #         setY=[a/2+y_m-source(2) a/2-y_m+source(2)];                                              \n",
    "            #         d=abs(source(3));                            % according to the paper, the Z-coordinate is d\n",
    "            #         TMP=zeros(length(setX),length(setY));\n",
    "            #         dm=norm(source-el_m);                   % distance between BS and m-th element\n",
    "            #         for ix=1:length(setX)\n",
    "            #             for iy=1:length(setY)                        \n",
    "            #                 a2=(setX(ix)*setY(iy))/d^2;                        \n",
    "            #                 b21=3*((setY(iy)^2)/d^2)+3;                        \n",
    "            #                 b22=sqrt(((setX(ix)^2+setY(iy)^2)/d^2)+1);                       \n",
    "            #                 TMP(ix,iy)=(a2/(b21*b22))+((2/3)*atan2(a2,b22));                        \n",
    "            #             end\n",
    "            #         end                     \n",
    "            #         powerval=((1/(4*pi))*sum(sum(TMP)));                % power of the m-th element                         \n",
    "            #         phase_rot(m)=2*pi*(dm-d0)/lambda;\n",
    "            #         gain(m)=sqrt(powerval)*exp(-1i*phase_rot(m));     % complex channel gain                               \n",
    "                pass\n",
    "\n",
    "\n",
    "            return (gain, phase_rot, locations)                             # RIS rotation around the Y axis "
   ]
  },
  {
   "cell_type": "code",
   "execution_count": 226,
   "metadata": {},
   "outputs": [],
   "source": [
    "RIS.b = computeRISChannel(RIS.Antenna,RIS,Signal,'CM3')                     # response from RIS to antenna\n"
   ]
  },
  {
   "cell_type": "code",
   "execution_count": 227,
   "metadata": {},
   "outputs": [
    {
     "name": "stdout",
     "output_type": "stream",
     "text": [
      "[0.57735027 0.57735027 0.57735027]\n"
     ]
    }
   ],
   "source": [
    "class UE:\n",
    "    covariance = np.eye(3, dtype=int)               # UE a priori covariance\n",
    "    distances = np.array([0.15, 1, 1.5, 2, 3, 4, 6, 8, 10, 12, 15], dtype=float).reshape((1, 11))\n",
    "    e = np.array([1, 1, 1])\n",
    "    e_unit = e / np.linalg.norm(e)\n",
    "    rhoRange = []\n",
    "    phiRange = []\n",
    "    thetaRange = []\n",
    "    print(e_unit)"
   ]
  },
  {
   "cell_type": "code",
   "execution_count": 228,
   "metadata": {},
   "outputs": [],
   "source": [
    "#def getBeams(UE,RIS,signal,beamType):\n",
    "   # switcher = {\n",
    "       # random:   \n",
    "       #     phases=rand(signal.T,RIS.M)*2*pi\n",
    "        #    phases=quantizePhases(phases,RIS.bits)          \n",
    "          #  Beams=exp(1j*phases),\n",
    "      #  direction:\n",
    "        \n",
    "    #}\n",
    "\n",
    "\n",
    "def showContours(Signal,UE,RIS):\n",
    "    x_grid = np.linespace(-2,2,50)\n",
    "    z_grid = np.linespace(0.001,4,50)\n",
    "    Omega_b = np.diag(np.conj(np.divide(b,(abs(b)))))\n",
    "    bnew = b.transpose() * Omega_b\n",
    "    PEB = np.zeros(length(x_grid),length(z_grid))\n",
    "    SNRr = np.zeros(length(x_grid),length(z_grid))\n",
    "    SNRd = np.zeros(length(x_grid),length(z_grid))\n",
    "    SNRp = np.zeros(length(x_grid),length(z_grid))\n",
    "    \n",
    "    UE.Location=0.1*[1,1,1]       #assume beams are pointing here        \n",
    "    UE.rhoRange=norm(UE1.Location)\n",
    "    UE.phiRange=atan2(UE1.Location(2),UE1.Location(1))    #between 0 and 2pi\n",
    "    UE.thetaRange=acos(UE1.Location(3)/norm(UE1.Location)) #between 0 and pi (for us pi/2, since Z>0)  \n",
    "    UE.mean=UE.Location \n",
    "    UE.covariance=UE.covariance      \n",
    "    BeamsR=getBeams(UE1,RIS,signal,'random')\n",
    "    BeamsD=getBeams(UE1,RIS,signal,'direction')       \n",
    "    BeamsP=getBeams(UE1,RIS,signal,'position')       \n",
    "    UE.Location = np.zeros(3,1)\n",
    "    \n",
    "    "
   ]
  },
  {
   "cell_type": "code",
   "execution_count": 229,
   "metadata": {},
   "outputs": [],
   "source": [
    "def quantizePhases(phases_in, nbits):\n",
    "    if nbits > 5:\n",
    "        phases_out = phases_in\n",
    "    else:\n",
    "        delta = np.pi / nbits\n",
    "        phases_out = np.floor(phases_in / delta + 0.5) * delta\n",
    "    \n",
    "    return phases_out"
   ]
  },
  {
   "cell_type": "code",
   "execution_count": 230,
   "metadata": {},
   "outputs": [
    {
     "ename": "AttributeError",
     "evalue": "'int' object has no attribute 'arctan2'",
     "output_type": "error",
     "traceback": [
      "\u001b[0;31m---------------------------------------------------------------------------\u001b[0m",
      "\u001b[0;31mAttributeError\u001b[0m                            Traceback (most recent call last)",
      "\u001b[0;32m<ipython-input-230-4e1cbf180898>\u001b[0m in \u001b[0;36m<module>\u001b[0;34m\u001b[0m\n\u001b[0;32m----> 1\u001b[0;31m \u001b[0mab\u001b[0m\u001b[0;34m=\u001b[0m\u001b[0mquantizePhases\u001b[0m\u001b[0;34m(\u001b[0m\u001b[0mnp\u001b[0m\u001b[0;34m.\u001b[0m\u001b[0mangle\u001b[0m\u001b[0;34m(\u001b[0m\u001b[0mRIS\u001b[0m\u001b[0;34m.\u001b[0m\u001b[0mb\u001b[0m\u001b[0;34m)\u001b[0m\u001b[0;34m,\u001b[0m\u001b[0mRIS\u001b[0m\u001b[0;34m.\u001b[0m\u001b[0mbits\u001b[0m\u001b[0;34m)\u001b[0m\u001b[0;34m\u001b[0m\u001b[0;34m\u001b[0m\u001b[0m\n\u001b[0m\u001b[1;32m      2\u001b[0m \u001b[0mOmega_b\u001b[0m\u001b[0;34m=\u001b[0m\u001b[0mnp\u001b[0m\u001b[0;34m.\u001b[0m\u001b[0mdiag\u001b[0m\u001b[0;34m(\u001b[0m\u001b[0mnp\u001b[0m\u001b[0;34m.\u001b[0m\u001b[0mexp\u001b[0m\u001b[0;34m(\u001b[0m\u001b[0;34m-\u001b[0m\u001b[0;36m1j\u001b[0m\u001b[0;34m*\u001b[0m\u001b[0mab\u001b[0m\u001b[0;34m)\u001b[0m\u001b[0;34m)\u001b[0m\u001b[0;34m\u001b[0m\u001b[0;34m\u001b[0m\u001b[0m\n\u001b[1;32m      3\u001b[0m \u001b[0mbnew\u001b[0m\u001b[0;34m=\u001b[0m\u001b[0mRIS\u001b[0m\u001b[0;34m.\u001b[0m\u001b[0mb\u001b[0m\u001b[0;34m.\u001b[0m\u001b[0mtranspose\u001b[0m\u001b[0;34m(\u001b[0m\u001b[0;34m)\u001b[0m\u001b[0;34m*\u001b[0m\u001b[0mOmega_b\u001b[0m\u001b[0;34m\u001b[0m\u001b[0;34m\u001b[0m\u001b[0m\n\u001b[1;32m      4\u001b[0m \u001b[0merrorStat\u001b[0m\u001b[0;34m=\u001b[0m\u001b[0mnp\u001b[0m\u001b[0;34m.\u001b[0m\u001b[0mzeros\u001b[0m\u001b[0;34m(\u001b[0m\u001b[0mlength\u001b[0m\u001b[0;34m(\u001b[0m\u001b[0mUE\u001b[0m\u001b[0;34m.\u001b[0m\u001b[0mdistances\u001b[0m\u001b[0;34m)\u001b[0m\u001b[0;34m,\u001b[0m\u001b[0mSignal\u001b[0m\u001b[0;34m.\u001b[0m\u001b[0msims\u001b[0m\u001b[0;34m)\u001b[0m\u001b[0;34m\u001b[0m\u001b[0;34m\u001b[0m\u001b[0m\n\u001b[1;32m      5\u001b[0m \u001b[0mRMSE\u001b[0m\u001b[0;34m=\u001b[0m\u001b[0mnp\u001b[0m\u001b[0;34m.\u001b[0m\u001b[0mzeros\u001b[0m\u001b[0;34m(\u001b[0m\u001b[0;36m1\u001b[0m\u001b[0;34m,\u001b[0m\u001b[0mlength\u001b[0m\u001b[0;34m(\u001b[0m\u001b[0mUE\u001b[0m\u001b[0;34m.\u001b[0m\u001b[0mdistances\u001b[0m\u001b[0;34m)\u001b[0m\u001b[0;34m)\u001b[0m\u001b[0;34m\u001b[0m\u001b[0;34m\u001b[0m\u001b[0m\n",
      "\u001b[0;32m<__array_function__ internals>\u001b[0m in \u001b[0;36mangle\u001b[0;34m(*args, **kwargs)\u001b[0m\n",
      "\u001b[0;32m/opt/anaconda3/lib/python3.7/site-packages/numpy/lib/function_base.py\u001b[0m in \u001b[0;36mangle\u001b[0;34m(z, deg)\u001b[0m\n\u001b[1;32m   1459\u001b[0m         \u001b[0mzreal\u001b[0m \u001b[0;34m=\u001b[0m \u001b[0mz\u001b[0m\u001b[0;34m\u001b[0m\u001b[0;34m\u001b[0m\u001b[0m\n\u001b[1;32m   1460\u001b[0m \u001b[0;34m\u001b[0m\u001b[0m\n\u001b[0;32m-> 1461\u001b[0;31m     \u001b[0ma\u001b[0m \u001b[0;34m=\u001b[0m \u001b[0marctan2\u001b[0m\u001b[0;34m(\u001b[0m\u001b[0mzimag\u001b[0m\u001b[0;34m,\u001b[0m \u001b[0mzreal\u001b[0m\u001b[0;34m)\u001b[0m\u001b[0;34m\u001b[0m\u001b[0;34m\u001b[0m\u001b[0m\n\u001b[0m\u001b[1;32m   1462\u001b[0m     \u001b[0;32mif\u001b[0m \u001b[0mdeg\u001b[0m\u001b[0;34m:\u001b[0m\u001b[0;34m\u001b[0m\u001b[0;34m\u001b[0m\u001b[0m\n\u001b[1;32m   1463\u001b[0m         \u001b[0ma\u001b[0m \u001b[0;34m*=\u001b[0m \u001b[0;36m180\u001b[0m\u001b[0;34m/\u001b[0m\u001b[0mpi\u001b[0m\u001b[0;34m\u001b[0m\u001b[0;34m\u001b[0m\u001b[0m\n",
      "\u001b[0;31mAttributeError\u001b[0m: 'int' object has no attribute 'arctan2'"
     ]
    }
   ],
   "source": [
    "ab=quantizePhases(np.angle(RIS.b),RIS.bits)\n",
    "Omega_b=np.diag(np.exp(-1j*ab))        \n",
    "bnew=RIS.b.transpose()*Omega_b\n",
    "errorStat=np.zeros(length(UE.distances),Signal.sims)\n",
    "RMSE=np.zeros(1,length(UE.distances))\n"
   ]
  },
  {
   "cell_type": "code",
   "execution_count": null,
   "metadata": {},
   "outputs": [],
   "source": []
  }
 ],
 "metadata": {
  "kernelspec": {
   "display_name": "Python 3",
   "language": "python",
   "name": "python3"
  },
  "language_info": {
   "codemirror_mode": {
    "name": "ipython",
    "version": 3
   },
   "file_extension": ".py",
   "mimetype": "text/x-python",
   "name": "python",
   "nbconvert_exporter": "python",
   "pygments_lexer": "ipython3",
   "version": "3.7.4"
  }
 },
 "nbformat": 4,
 "nbformat_minor": 2
}
